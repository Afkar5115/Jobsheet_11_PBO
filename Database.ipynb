{
  "nbformat": 4,
  "nbformat_minor": 0,
  "metadata": {
    "colab": {
      "provenance": [],
      "toc_visible": true,
      "authorship_tag": "ABX9TyODrecla1FOWr3UWMc2BwM3",
      "include_colab_link": true
    },
    "kernelspec": {
      "name": "python3",
      "display_name": "Python 3"
    },
    "language_info": {
      "name": "python"
    }
  },
  "cells": [
    {
      "cell_type": "markdown",
      "metadata": {
        "id": "view-in-github",
        "colab_type": "text"
      },
      "source": [
        "<a href=\"https://colab.research.google.com/github/Afkar5115/Jobsheet_11_PBO/blob/main/Database.ipynb\" target=\"_parent\"><img src=\"https://colab.research.google.com/assets/colab-badge.svg\" alt=\"Open In Colab\"/></a>"
      ]
    },
    {
      "cell_type": "markdown",
      "source": [
        "# Database.py\n"
      ],
      "metadata": {
        "id": "Sw8mUNmSUKCa"
      }
    },
    {
      "cell_type": "code",
      "execution_count": null,
      "metadata": {
        "id": "Zh89tN5qTtx0"
      },
      "outputs": [],
      "source": [
        "# database.py\n",
        "import sqlite3\n",
        "import pandas as pd\n",
        "from konfigurasi import DB_PATH  # Gunakan path dari konfigurasi\n",
        "\n",
        "def get_db_connection() -> sqlite3.Connection | None:\n",
        "    \"\"\"Membuka dan mengembalikan koneksi baru ke database SQLite.\"\"\"\n",
        "    try:\n",
        "        conn = sqlite3.connect(DB_PATH, timeout=10, detect_types=sqlite3.PARSE_DECLTYPES)\n",
        "        conn.row_factory = sqlite3.Row  # Akses kolom by name\n",
        "        return conn\n",
        "    except sqlite3.Error as e:\n",
        "        print(f\"ERROR [database.py] Koneksi DB gagal: {e}\")\n",
        "        return None\n",
        "\n",
        "def execute_query(query: str, params: tuple = None):\n",
        "    \"\"\"\n",
        "    Menjalankan query non-SELECT (INSERT, UPDATE, DELETE).\n",
        "    Mengembalikan lastrowid jika INSERT.\n",
        "    \"\"\"\n",
        "    conn = get_db_connection()\n",
        "    if not conn:\n",
        "        return None\n",
        "\n",
        "    last_id = None\n",
        "    try:\n",
        "        cursor = conn.cursor()\n",
        "        if params:\n",
        "            cursor.execute(query, params)\n",
        "        else:\n",
        "            cursor.execute(query)\n",
        "        conn.commit()\n",
        "        last_id = cursor.lastrowid\n",
        "        return last_id\n",
        "    except sqlite3.Error as e:\n",
        "        print(f\"ERROR [database.py] Query gagal: {e} | Query: {query[:60]}\")\n",
        "        conn.rollback()\n",
        "        return None\n",
        "    finally:\n",
        "        if conn:\n",
        "            conn.close()\n",
        "\n",
        "def fetch_query(query: str, params: tuple = None, fetch_all: bool = True):\n",
        "    \"\"\"Menjalankan query SELECT dan mengembalikan hasil.\"\"\"\n",
        "    conn = get_db_connection()\n",
        "    if not conn:\n",
        "        return None\n",
        "\n",
        "    try:\n",
        "        cursor = conn.cursor()\n",
        "        if params:\n",
        "            cursor.execute(query, params)\n",
        "        else:\n",
        "            cursor.execute(query)\n",
        "\n",
        "        result = cursor.fetchall() if fetch_all else cursor.fetchone()\n",
        "        return result\n",
        "    except sqlite3.Error as e:\n",
        "        print(f\"ERROR [database.py] Fetch gagal: {e} | Query: {query[:60]}\")\n",
        "        return None\n",
        "    finally:\n",
        "        if conn:\n",
        "            conn.close()\n",
        "\n",
        "def get_dataframe(query: str, params: tuple = None) -> pd.DataFrame:\n",
        "    \"\"\"Menjalankan query SELECT dan mengembalikan DataFrame Pandas.\"\"\"\n",
        "    conn = get_db_connection()\n",
        "    if not conn:\n",
        "        return pd.DataFrame()\n",
        "\n",
        "    try:\n",
        "        df = pd.read_sql_query(query, conn, params=params)\n",
        "        return df\n",
        "    except Exception as e:\n",
        "        print(f\"ERROR [database.py] Gagal baca ke DataFrame: {e}\")\n",
        "        return pd.DataFrame()\n",
        "    finally:\n",
        "        if conn:\n",
        "            conn.close()\n",
        "\n",
        "def setup_database_initial():\n",
        "    \"\"\"Memastikan tabel transaksi ada (dipanggil oleh AnggaranHarian jika perlu).\"\"\"\n",
        "    print(f\"Memeriksa/membuat tabel di database (via database.py): {DB_PATH}\")\n",
        "    conn = get_db_connection()\n",
        "    if not conn:\n",
        "        return False\n",
        "\n",
        "    try:\n",
        "        cursor = conn.cursor()\n",
        "        sql_create_table = \"\"\"\n",
        "        CREATE TABLE IF NOT EXISTS transaksi (\n",
        "            id INTEGER PRIMARY KEY AUTOINCREMENT,\n",
        "            deskripsi TEXT NOT NULL,\n",
        "            jumlah REAL NOT NULL CHECK(jumlah > 0),\n",
        "            kategori TEXT,\n",
        "            tanggal DATE NOT NULL\n",
        "        );\"\"\"\n",
        "        cursor.execute(sql_create_table)\n",
        "        conn.commit()\n",
        "        print(\" -> Tabel 'transaksi' siap.\")\n",
        "        return True\n",
        "    except sqlite3.Error as e:\n",
        "        print(f\"Error SQLite saat setup tabel: {e}\")\n",
        "        return False\n",
        "    finally:\n",
        "        if conn:\n",
        "            conn.close()\n"
      ]
    }
  ]
}